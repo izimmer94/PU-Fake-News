{
 "cells": [
  {
   "cell_type": "code",
   "execution_count": null,
   "metadata": {},
   "outputs": [],
   "source": [
    "from sklearn.feature_extraction.text import TfidfVectorizer\n",
    "from sklearn.neighbors import NearestNeighbors\n",
    "from vaderSentiment.vaderSentiment import SentimentIntensityAnalyzer\n",
    "from sklearn.linear_model import LogisticRegression\n",
    "from nltk.corpus import stopwords\n",
    "import numpy as np\n",
    "from sklearn.decomposition import PCA\n",
    "import plotly.express as px\n",
    "import preprocessing\n",
    "import pandas as pd\n",
    "import matplotlib.pyplot as plt\n",
    "from sklearn import metrics\n",
    "from sklearn.svm import SVC\n",
    "from sklearn.preprocessing import StandardScaler\n",
    "from sklearn.metrics import classification_report, accuracy_score\n",
    "\n",
    "# import nltk\n",
    "# nltk.download('punkt')\n",
    "# nltk.download('stopwords')\n",
    "stop_words = set(stopwords.words('english'))"
   ]
  },
  {
   "cell_type": "code",
   "execution_count": 42,
   "metadata": {},
   "outputs": [
    {
     "data": {
      "text/html": [
       "<div>\n",
       "<style scoped>\n",
       "    .dataframe tbody tr th:only-of-type {\n",
       "        vertical-align: middle;\n",
       "    }\n",
       "\n",
       "    .dataframe tbody tr th {\n",
       "        vertical-align: top;\n",
       "    }\n",
       "\n",
       "    .dataframe thead th {\n",
       "        text-align: right;\n",
       "    }\n",
       "</style>\n",
       "<table border=\"1\" class=\"dataframe\">\n",
       "  <thead>\n",
       "    <tr style=\"text-align: right;\">\n",
       "      <th></th>\n",
       "      <th>id</th>\n",
       "      <th>title</th>\n",
       "      <th>author</th>\n",
       "      <th>text</th>\n",
       "      <th>label</th>\n",
       "      <th>cleaned_text</th>\n",
       "      <th>clean_title</th>\n",
       "    </tr>\n",
       "  </thead>\n",
       "  <tbody>\n",
       "    <tr>\n",
       "      <th>0</th>\n",
       "      <td>0</td>\n",
       "      <td>House Dem Aide: We Didn’t Even See Comey’s Let...</td>\n",
       "      <td>Darrell Lucus</td>\n",
       "      <td>House Dem Aide: We Didn’t Even See Comey’s Let...</td>\n",
       "      <td>1</td>\n",
       "      <td>house dem aide didnt even see comeys letter ja...</td>\n",
       "      <td>house dem aide didnt even see comeys letter ja...</td>\n",
       "    </tr>\n",
       "    <tr>\n",
       "      <th>1</th>\n",
       "      <td>1</td>\n",
       "      <td>FLYNN: Hillary Clinton, Big Woman on Campus - ...</td>\n",
       "      <td>Daniel J. Flynn</td>\n",
       "      <td>Ever get the feeling your life circles the rou...</td>\n",
       "      <td>1</td>\n",
       "      <td>ever get feeling life circle roundabout rather...</td>\n",
       "      <td>flynn hillary clinton big woman campus breitbart</td>\n",
       "    </tr>\n",
       "    <tr>\n",
       "      <th>2</th>\n",
       "      <td>2</td>\n",
       "      <td>Why the Truth Might Get You Fired</td>\n",
       "      <td>Consortiumnews.com</td>\n",
       "      <td>Why the Truth Might Get You Fired October 29, ...</td>\n",
       "      <td>1</td>\n",
       "      <td>truth might get fired october tension intellig...</td>\n",
       "      <td>truth might get fired</td>\n",
       "    </tr>\n",
       "    <tr>\n",
       "      <th>3</th>\n",
       "      <td>3</td>\n",
       "      <td>15 Civilians Killed In Single US Airstrike Hav...</td>\n",
       "      <td>Jessica Purkiss</td>\n",
       "      <td>Videos 15 Civilians Killed In Single US Airstr...</td>\n",
       "      <td>1</td>\n",
       "      <td>video civilian killed single u airstrike ident...</td>\n",
       "      <td>civilian killed single u airstrike identified</td>\n",
       "    </tr>\n",
       "    <tr>\n",
       "      <th>4</th>\n",
       "      <td>4</td>\n",
       "      <td>Iranian woman jailed for fictional unpublished...</td>\n",
       "      <td>Howard Portnoy</td>\n",
       "      <td>Print \\nAn Iranian woman has been sentenced to...</td>\n",
       "      <td>1</td>\n",
       "      <td>print iranian woman sentenced six year prison ...</td>\n",
       "      <td>iranian woman jailed fictional unpublished sto...</td>\n",
       "    </tr>\n",
       "  </tbody>\n",
       "</table>\n",
       "</div>"
      ],
      "text/plain": [
       "   id                                              title              author  \\\n",
       "0   0  House Dem Aide: We Didn’t Even See Comey’s Let...       Darrell Lucus   \n",
       "1   1  FLYNN: Hillary Clinton, Big Woman on Campus - ...     Daniel J. Flynn   \n",
       "2   2                  Why the Truth Might Get You Fired  Consortiumnews.com   \n",
       "3   3  15 Civilians Killed In Single US Airstrike Hav...     Jessica Purkiss   \n",
       "4   4  Iranian woman jailed for fictional unpublished...      Howard Portnoy   \n",
       "\n",
       "                                                text  label  \\\n",
       "0  House Dem Aide: We Didn’t Even See Comey’s Let...      1   \n",
       "1  Ever get the feeling your life circles the rou...      1   \n",
       "2  Why the Truth Might Get You Fired October 29, ...      1   \n",
       "3  Videos 15 Civilians Killed In Single US Airstr...      1   \n",
       "4  Print \\nAn Iranian woman has been sentenced to...      1   \n",
       "\n",
       "                                        cleaned_text  \\\n",
       "0  house dem aide didnt even see comeys letter ja...   \n",
       "1  ever get feeling life circle roundabout rather...   \n",
       "2  truth might get fired october tension intellig...   \n",
       "3  video civilian killed single u airstrike ident...   \n",
       "4  print iranian woman sentenced six year prison ...   \n",
       "\n",
       "                                         clean_title  \n",
       "0  house dem aide didnt even see comeys letter ja...  \n",
       "1   flynn hillary clinton big woman campus breitbart  \n",
       "2                              truth might get fired  \n",
       "3      civilian killed single u airstrike identified  \n",
       "4  iranian woman jailed fictional unpublished sto...  "
      ]
     },
     "execution_count": 42,
     "metadata": {},
     "output_type": "execute_result"
    }
   ],
   "source": [
    "input_file = \"./article_dataset.csv\"\n",
    "df_raw = pd.read_csv(input_file, index_col=\"id\")\n",
    "df_raw = preprocessing.clean_df(df_raw)\n",
    "df_raw = df_raw[df_raw['cleaned_text'].str.strip() != \"\"].copy()\n",
    "df_raw.reset_index(inplace=True)\n",
    "df_raw['id'] = df_raw.index\n",
    "df_raw[\"clean_title\"] = df_raw['title'].apply(preprocessing.clean_text)\n",
    "\n",
    "df = df_raw.copy()\n",
    "df = preprocessing.turn_into_pu(df, 0.5)\n",
    "\n",
    "X_train, X_test, y_train, y_test = preprocessing.test_train_split(df)\n",
    "y_train.index = X_train.index\n",
    "y_test_true = df_raw.loc[y_test.index, 'label']\n",
    "\n",
    "X_train['tokens'] = X_train['cleaned_text'].apply(lambda x: x.split())\n",
    "df.head()"
   ]
  },
  {
   "cell_type": "code",
   "execution_count": 43,
   "metadata": {},
   "outputs": [
    {
     "name": "stderr",
     "output_type": "stream",
     "text": [
      "/Users/ethanwong/miniforge3/envs/tf_env/lib/python3.8/site-packages/sklearn/feature_extraction/text.py:525: UserWarning:\n",
      "\n",
      "The parameter 'token_pattern' will not be used since 'tokenizer' is not None'\n",
      "\n"
     ]
    },
    {
     "name": "stdout",
     "output_type": "stream",
     "text": [
      "Explained Variance:  [0.01361221 0.02223351 0.02836963 0.03401142 0.03859039 0.0422613\n",
      " 0.04585219 0.04922678 0.05240225 0.05523649 0.0579083  0.060539\n",
      " 0.06297905 0.06538413 0.06769855 0.06985503 0.07194448 0.07401531\n",
      " 0.07598834 0.07790957 0.07976904 0.0815863  0.08334781 0.0850625\n",
      " 0.08671475 0.08830115 0.08987172 0.09141517 0.09293597 0.09442402]\n"
     ]
    }
   ],
   "source": [
    "vectorizer = TfidfVectorizer(tokenizer=lambda x: x.split(), lowercase=True)\n",
    "tfidf_matrix = vectorizer.fit_transform(X_train['cleaned_text'])\n",
    "tfidf_df = pd.DataFrame(tfidf_matrix.toarray(), columns=vectorizer.get_feature_names_out(), index=X_train.index)\n",
    "\n",
    "pca = PCA(n_components=30)\n",
    "principal_components = pca.fit_transform(tfidf_df)\n",
    "print(\"Explained Variance: \", pca.explained_variance_ratio_.cumsum())"
   ]
  },
  {
   "cell_type": "code",
   "execution_count": 44,
   "metadata": {},
   "outputs": [
    {
     "data": {
      "text/html": [
       "<div>\n",
       "<style scoped>\n",
       "    .dataframe tbody tr th:only-of-type {\n",
       "        vertical-align: middle;\n",
       "    }\n",
       "\n",
       "    .dataframe tbody tr th {\n",
       "        vertical-align: top;\n",
       "    }\n",
       "\n",
       "    .dataframe thead th {\n",
       "        text-align: right;\n",
       "    }\n",
       "</style>\n",
       "<table border=\"1\" class=\"dataframe\">\n",
       "  <thead>\n",
       "    <tr style=\"text-align: right;\">\n",
       "      <th></th>\n",
       "      <th>id</th>\n",
       "      <th>title</th>\n",
       "      <th>author</th>\n",
       "      <th>text</th>\n",
       "      <th>cleaned_text</th>\n",
       "      <th>clean_title</th>\n",
       "      <th>tokens</th>\n",
       "      <th>len</th>\n",
       "      <th>neg_cleaned_text</th>\n",
       "      <th>neu_cleaned_text</th>\n",
       "      <th>pos_cleaned_text</th>\n",
       "      <th>compound</th>\n",
       "      <th>neg_clean_title</th>\n",
       "      <th>neu_clean_title</th>\n",
       "      <th>pos_clean_title</th>\n",
       "      <th>compound</th>\n",
       "      <th>percent_stop</th>\n",
       "    </tr>\n",
       "  </thead>\n",
       "  <tbody>\n",
       "    <tr>\n",
       "      <th>14021</th>\n",
       "      <td>14021</td>\n",
       "      <td>A Song for Bill de Blasio Sounds a Sour Note f...</td>\n",
       "      <td>William Neuman</td>\n",
       "      <td>Mayor Bill de Blasio posted a video on his Cit...</td>\n",
       "      <td>mayor bill de blasio posted video city hall tw...</td>\n",
       "      <td>song bill de blasio sound sour note watchdog n...</td>\n",
       "      <td>[mayor, bill, de, blasio, posted, video, city,...</td>\n",
       "      <td>386</td>\n",
       "      <td>0.047</td>\n",
       "      <td>0.806</td>\n",
       "      <td>0.146</td>\n",
       "      <td>0.9915</td>\n",
       "      <td>0.000</td>\n",
       "      <td>1.000</td>\n",
       "      <td>0.000</td>\n",
       "      <td>0.0000</td>\n",
       "      <td>0.023316</td>\n",
       "    </tr>\n",
       "    <tr>\n",
       "      <th>8663</th>\n",
       "      <td>8663</td>\n",
       "      <td>News Shot: Electronic Voting Machines Rigged f...</td>\n",
       "      <td>Lily Dane</td>\n",
       "      <td>Joe Joseph discusses a recent SHTFPlan.com art...</td>\n",
       "      <td>joe joseph discusses recent shtfplancom articl...</td>\n",
       "      <td>news shot electronic voting machine rigged cli...</td>\n",
       "      <td>[joe, joseph, discusses, recent, shtfplancom, ...</td>\n",
       "      <td>57</td>\n",
       "      <td>0.082</td>\n",
       "      <td>0.793</td>\n",
       "      <td>0.125</td>\n",
       "      <td>0.4215</td>\n",
       "      <td>0.263</td>\n",
       "      <td>0.737</td>\n",
       "      <td>0.000</td>\n",
       "      <td>-0.3612</td>\n",
       "      <td>0.000000</td>\n",
       "    </tr>\n",
       "    <tr>\n",
       "      <th>19916</th>\n",
       "      <td>19916</td>\n",
       "      <td>US Plan “C” in Syria: Make “Al Qaeda Central” ...</td>\n",
       "      <td>Activist Post</td>\n",
       "      <td>By Tony Cartalucci In reality, since even befo...</td>\n",
       "      <td>tony cartalucci reality since even syria confl...</td>\n",
       "      <td>u plan c syria make al qaeda central new capital</td>\n",
       "      <td>[tony, cartalucci, reality, since, even, syria...</td>\n",
       "      <td>14</td>\n",
       "      <td>0.135</td>\n",
       "      <td>0.702</td>\n",
       "      <td>0.164</td>\n",
       "      <td>0.1280</td>\n",
       "      <td>0.000</td>\n",
       "      <td>1.000</td>\n",
       "      <td>0.000</td>\n",
       "      <td>0.0000</td>\n",
       "      <td>0.000000</td>\n",
       "    </tr>\n",
       "    <tr>\n",
       "      <th>18412</th>\n",
       "      <td>18412</td>\n",
       "      <td>Chart Of The Day: Miami Condo Market—–Choking ...</td>\n",
       "      <td>David Stockman</td>\n",
       "      <td>Chart Of The Day: Miami Condo Market Choking O...</td>\n",
       "      <td>chart day miami condo market choking inventory...</td>\n",
       "      <td>chart day miami condo marketchoking inventory</td>\n",
       "      <td>[chart, day, miami, condo, market, choking, in...</td>\n",
       "      <td>56</td>\n",
       "      <td>0.050</td>\n",
       "      <td>0.863</td>\n",
       "      <td>0.088</td>\n",
       "      <td>0.0731</td>\n",
       "      <td>0.000</td>\n",
       "      <td>1.000</td>\n",
       "      <td>0.000</td>\n",
       "      <td>0.0000</td>\n",
       "      <td>0.000000</td>\n",
       "    </tr>\n",
       "    <tr>\n",
       "      <th>11694</th>\n",
       "      <td>11694</td>\n",
       "      <td>4 STEPS TO ENSURE YOUR AMMO STORES (VIRTUALLY)...</td>\n",
       "      <td>Iron Sheik</td>\n",
       "      <td>Home › GUNS › 4 STEPS TO ENSURE YOUR AMMO STOR...</td>\n",
       "      <td>home gun step ensure ammo store virtually fore...</td>\n",
       "      <td>step ensure ammo store virtually forever</td>\n",
       "      <td>[home, gun, step, ensure, ammo, store, virtual...</td>\n",
       "      <td>218</td>\n",
       "      <td>0.078</td>\n",
       "      <td>0.730</td>\n",
       "      <td>0.192</td>\n",
       "      <td>0.9794</td>\n",
       "      <td>0.000</td>\n",
       "      <td>0.658</td>\n",
       "      <td>0.342</td>\n",
       "      <td>0.3818</td>\n",
       "      <td>0.027523</td>\n",
       "    </tr>\n",
       "    <tr>\n",
       "      <th>...</th>\n",
       "      <td>...</td>\n",
       "      <td>...</td>\n",
       "      <td>...</td>\n",
       "      <td>...</td>\n",
       "      <td>...</td>\n",
       "      <td>...</td>\n",
       "      <td>...</td>\n",
       "      <td>...</td>\n",
       "      <td>...</td>\n",
       "      <td>...</td>\n",
       "      <td>...</td>\n",
       "      <td>...</td>\n",
       "      <td>...</td>\n",
       "      <td>...</td>\n",
       "      <td>...</td>\n",
       "      <td>...</td>\n",
       "      <td>...</td>\n",
       "    </tr>\n",
       "    <tr>\n",
       "      <th>18214</th>\n",
       "      <td>18214</td>\n",
       "      <td>Islamists Celebrate Erdogan’s Victory in Refer...</td>\n",
       "      <td>Ali Waked</td>\n",
       "      <td>Islamists around the Arab world celebrated Tur...</td>\n",
       "      <td>islamist around arab world celebrated turkish ...</td>\n",
       "      <td>islamist celebrate erdogans victory referendum...</td>\n",
       "      <td>[islamist, around, arab, world, celebrated, tu...</td>\n",
       "      <td>227</td>\n",
       "      <td>0.026</td>\n",
       "      <td>0.661</td>\n",
       "      <td>0.313</td>\n",
       "      <td>0.9975</td>\n",
       "      <td>0.000</td>\n",
       "      <td>0.619</td>\n",
       "      <td>0.381</td>\n",
       "      <td>0.5719</td>\n",
       "      <td>0.000000</td>\n",
       "    </tr>\n",
       "    <tr>\n",
       "      <th>7498</th>\n",
       "      <td>7498</td>\n",
       "      <td>People in cities other than Delhi spray Fog de...</td>\n",
       "      <td>Amrut Thobbi</td>\n",
       "      <td>People in cities other than Delhi spray Fog de...</td>\n",
       "      <td>people city delhi spray fog deo get medium att...</td>\n",
       "      <td>people city delhi spray fog deo get medium att...</td>\n",
       "      <td>[people, city, delhi, spray, fog, deo, get, me...</td>\n",
       "      <td>186</td>\n",
       "      <td>0.098</td>\n",
       "      <td>0.737</td>\n",
       "      <td>0.164</td>\n",
       "      <td>0.9132</td>\n",
       "      <td>0.000</td>\n",
       "      <td>1.000</td>\n",
       "      <td>0.000</td>\n",
       "      <td>0.0000</td>\n",
       "      <td>0.000000</td>\n",
       "    </tr>\n",
       "    <tr>\n",
       "      <th>8394</th>\n",
       "      <td>8394</td>\n",
       "      <td>Active Navy SEAL Investigated for Staring in P...</td>\n",
       "      <td>Warner Todd Huston</td>\n",
       "      <td>A decorated, active Navy SEAL is under investi...</td>\n",
       "      <td>decorated active navy seal investigation moonl...</td>\n",
       "      <td>active navy seal investigated staring porn mov...</td>\n",
       "      <td>[decorated, active, navy, seal, investigation,...</td>\n",
       "      <td>212</td>\n",
       "      <td>0.083</td>\n",
       "      <td>0.793</td>\n",
       "      <td>0.124</td>\n",
       "      <td>0.9153</td>\n",
       "      <td>0.126</td>\n",
       "      <td>0.631</td>\n",
       "      <td>0.243</td>\n",
       "      <td>0.3182</td>\n",
       "      <td>0.000000</td>\n",
       "    </tr>\n",
       "    <tr>\n",
       "      <th>11895</th>\n",
       "      <td>11895</td>\n",
       "      <td>Why Did Facebook Say I Was Dead? - The New Yor...</td>\n",
       "      <td>Katie Rogers</td>\n",
       "      <td>Have you ever wondered what it would be like t...</td>\n",
       "      <td>ever wondered would like attend funeral friday...</td>\n",
       "      <td>facebook say dead new york time</td>\n",
       "      <td>[ever, wondered, would, like, attend, funeral,...</td>\n",
       "      <td>190</td>\n",
       "      <td>0.270</td>\n",
       "      <td>0.554</td>\n",
       "      <td>0.176</td>\n",
       "      <td>-0.9803</td>\n",
       "      <td>0.462</td>\n",
       "      <td>0.538</td>\n",
       "      <td>0.000</td>\n",
       "      <td>-0.6486</td>\n",
       "      <td>0.005263</td>\n",
       "    </tr>\n",
       "    <tr>\n",
       "      <th>6089</th>\n",
       "      <td>6089</td>\n",
       "      <td>Reward Is Doubled as Authorities Seek Leads in...</td>\n",
       "      <td>Eli Rosenberg</td>\n",
       "      <td>More than five months after a mysterious subst...</td>\n",
       "      <td>five month mysterious substance exploded centr...</td>\n",
       "      <td>reward doubled authority seek lead july blast ...</td>\n",
       "      <td>[five, month, mysterious, substance, exploded,...</td>\n",
       "      <td>247</td>\n",
       "      <td>0.093</td>\n",
       "      <td>0.813</td>\n",
       "      <td>0.093</td>\n",
       "      <td>0.4728</td>\n",
       "      <td>0.000</td>\n",
       "      <td>0.667</td>\n",
       "      <td>0.333</td>\n",
       "      <td>0.6124</td>\n",
       "      <td>0.000000</td>\n",
       "    </tr>\n",
       "  </tbody>\n",
       "</table>\n",
       "<p>13826 rows × 17 columns</p>\n",
       "</div>"
      ],
      "text/plain": [
       "          id                                              title  \\\n",
       "14021  14021  A Song for Bill de Blasio Sounds a Sour Note f...   \n",
       "8663    8663  News Shot: Electronic Voting Machines Rigged f...   \n",
       "19916  19916  US Plan “C” in Syria: Make “Al Qaeda Central” ...   \n",
       "18412  18412  Chart Of The Day: Miami Condo Market—–Choking ...   \n",
       "11694  11694  4 STEPS TO ENSURE YOUR AMMO STORES (VIRTUALLY)...   \n",
       "...      ...                                                ...   \n",
       "18214  18214  Islamists Celebrate Erdogan’s Victory in Refer...   \n",
       "7498    7498  People in cities other than Delhi spray Fog de...   \n",
       "8394    8394  Active Navy SEAL Investigated for Staring in P...   \n",
       "11895  11895  Why Did Facebook Say I Was Dead? - The New Yor...   \n",
       "6089    6089  Reward Is Doubled as Authorities Seek Leads in...   \n",
       "\n",
       "                   author                                               text  \\\n",
       "14021      William Neuman  Mayor Bill de Blasio posted a video on his Cit...   \n",
       "8663            Lily Dane  Joe Joseph discusses a recent SHTFPlan.com art...   \n",
       "19916       Activist Post  By Tony Cartalucci In reality, since even befo...   \n",
       "18412      David Stockman  Chart Of The Day: Miami Condo Market Choking O...   \n",
       "11694          Iron Sheik  Home › GUNS › 4 STEPS TO ENSURE YOUR AMMO STOR...   \n",
       "...                   ...                                                ...   \n",
       "18214           Ali Waked  Islamists around the Arab world celebrated Tur...   \n",
       "7498         Amrut Thobbi  People in cities other than Delhi spray Fog de...   \n",
       "8394   Warner Todd Huston  A decorated, active Navy SEAL is under investi...   \n",
       "11895        Katie Rogers  Have you ever wondered what it would be like t...   \n",
       "6089        Eli Rosenberg  More than five months after a mysterious subst...   \n",
       "\n",
       "                                            cleaned_text  \\\n",
       "14021  mayor bill de blasio posted video city hall tw...   \n",
       "8663   joe joseph discusses recent shtfplancom articl...   \n",
       "19916  tony cartalucci reality since even syria confl...   \n",
       "18412  chart day miami condo market choking inventory...   \n",
       "11694  home gun step ensure ammo store virtually fore...   \n",
       "...                                                  ...   \n",
       "18214  islamist around arab world celebrated turkish ...   \n",
       "7498   people city delhi spray fog deo get medium att...   \n",
       "8394   decorated active navy seal investigation moonl...   \n",
       "11895  ever wondered would like attend funeral friday...   \n",
       "6089   five month mysterious substance exploded centr...   \n",
       "\n",
       "                                             clean_title  \\\n",
       "14021  song bill de blasio sound sour note watchdog n...   \n",
       "8663   news shot electronic voting machine rigged cli...   \n",
       "19916   u plan c syria make al qaeda central new capital   \n",
       "18412      chart day miami condo marketchoking inventory   \n",
       "11694           step ensure ammo store virtually forever   \n",
       "...                                                  ...   \n",
       "18214  islamist celebrate erdogans victory referendum...   \n",
       "7498   people city delhi spray fog deo get medium att...   \n",
       "8394   active navy seal investigated staring porn mov...   \n",
       "11895                    facebook say dead new york time   \n",
       "6089   reward doubled authority seek lead july blast ...   \n",
       "\n",
       "                                                  tokens  len  \\\n",
       "14021  [mayor, bill, de, blasio, posted, video, city,...  386   \n",
       "8663   [joe, joseph, discusses, recent, shtfplancom, ...   57   \n",
       "19916  [tony, cartalucci, reality, since, even, syria...   14   \n",
       "18412  [chart, day, miami, condo, market, choking, in...   56   \n",
       "11694  [home, gun, step, ensure, ammo, store, virtual...  218   \n",
       "...                                                  ...  ...   \n",
       "18214  [islamist, around, arab, world, celebrated, tu...  227   \n",
       "7498   [people, city, delhi, spray, fog, deo, get, me...  186   \n",
       "8394   [decorated, active, navy, seal, investigation,...  212   \n",
       "11895  [ever, wondered, would, like, attend, funeral,...  190   \n",
       "6089   [five, month, mysterious, substance, exploded,...  247   \n",
       "\n",
       "       neg_cleaned_text  neu_cleaned_text  pos_cleaned_text  compound  \\\n",
       "14021             0.047             0.806             0.146    0.9915   \n",
       "8663              0.082             0.793             0.125    0.4215   \n",
       "19916             0.135             0.702             0.164    0.1280   \n",
       "18412             0.050             0.863             0.088    0.0731   \n",
       "11694             0.078             0.730             0.192    0.9794   \n",
       "...                 ...               ...               ...       ...   \n",
       "18214             0.026             0.661             0.313    0.9975   \n",
       "7498              0.098             0.737             0.164    0.9132   \n",
       "8394              0.083             0.793             0.124    0.9153   \n",
       "11895             0.270             0.554             0.176   -0.9803   \n",
       "6089              0.093             0.813             0.093    0.4728   \n",
       "\n",
       "       neg_clean_title  neu_clean_title  pos_clean_title  compound  \\\n",
       "14021            0.000            1.000            0.000    0.0000   \n",
       "8663             0.263            0.737            0.000   -0.3612   \n",
       "19916            0.000            1.000            0.000    0.0000   \n",
       "18412            0.000            1.000            0.000    0.0000   \n",
       "11694            0.000            0.658            0.342    0.3818   \n",
       "...                ...              ...              ...       ...   \n",
       "18214            0.000            0.619            0.381    0.5719   \n",
       "7498             0.000            1.000            0.000    0.0000   \n",
       "8394             0.126            0.631            0.243    0.3182   \n",
       "11895            0.462            0.538            0.000   -0.6486   \n",
       "6089             0.000            0.667            0.333    0.6124   \n",
       "\n",
       "       percent_stop  \n",
       "14021      0.023316  \n",
       "8663       0.000000  \n",
       "19916      0.000000  \n",
       "18412      0.000000  \n",
       "11694      0.027523  \n",
       "...             ...  \n",
       "18214      0.000000  \n",
       "7498       0.000000  \n",
       "8394       0.000000  \n",
       "11895      0.005263  \n",
       "6089       0.000000  \n",
       "\n",
       "[13826 rows x 17 columns]"
      ]
     },
     "execution_count": 44,
     "metadata": {},
     "output_type": "execute_result"
    }
   ],
   "source": [
    "analyzer = SentimentIntensityAnalyzer()\n",
    "def sentiment_maker(df: pd.DataFrame, type:str):\n",
    "    df['sentiment'] = df[type].apply(analyzer.polarity_scores)\n",
    "    df = pd.concat([df.drop(['sentiment'], axis=1), df['sentiment'].apply(pd.Series)], axis=1)\n",
    "    df.rename(columns={col: f\"{col}_{type}\" for col in [\"pos\", \"neu\", \"neg\"]}, inplace=True)\n",
    "    return df\n",
    "\n",
    "def count_stop_words(tokens):\n",
    "    stop_word_count = sum(1 for word in tokens if word in stop_words)\n",
    "    return stop_word_count / len(tokens)\n",
    "\n",
    "X_vec = X_train.copy()\n",
    "X_vec['len'] = X_vec['tokens'].apply(lambda x: len(x))\n",
    "\n",
    "X_vec = sentiment_maker(X_vec, \"cleaned_text\")\n",
    "X_vec = sentiment_maker(X_vec, \"clean_title\")\n",
    "\n",
    "\n",
    "X_vec['percent_stop'] = X_vec['tokens'].apply(count_stop_words)\n",
    "X_vec"
   ]
  },
  {
   "cell_type": "code",
   "execution_count": 45,
   "metadata": {},
   "outputs": [
    {
     "data": {
      "text/html": [
       "<div>\n",
       "<style scoped>\n",
       "    .dataframe tbody tr th:only-of-type {\n",
       "        vertical-align: middle;\n",
       "    }\n",
       "\n",
       "    .dataframe tbody tr th {\n",
       "        vertical-align: top;\n",
       "    }\n",
       "\n",
       "    .dataframe thead th {\n",
       "        text-align: right;\n",
       "    }\n",
       "</style>\n",
       "<table border=\"1\" class=\"dataframe\">\n",
       "  <thead>\n",
       "    <tr style=\"text-align: right;\">\n",
       "      <th></th>\n",
       "      <th>len</th>\n",
       "      <th>neg_cleaned_text</th>\n",
       "      <th>neu_cleaned_text</th>\n",
       "      <th>pos_cleaned_text</th>\n",
       "      <th>compound</th>\n",
       "      <th>neg_clean_title</th>\n",
       "      <th>neu_clean_title</th>\n",
       "      <th>pos_clean_title</th>\n",
       "      <th>compound</th>\n",
       "      <th>percent_stop</th>\n",
       "      <th>...</th>\n",
       "      <th>20</th>\n",
       "      <th>21</th>\n",
       "      <th>22</th>\n",
       "      <th>23</th>\n",
       "      <th>24</th>\n",
       "      <th>25</th>\n",
       "      <th>26</th>\n",
       "      <th>27</th>\n",
       "      <th>28</th>\n",
       "      <th>29</th>\n",
       "    </tr>\n",
       "  </thead>\n",
       "  <tbody>\n",
       "    <tr>\n",
       "      <th>14021</th>\n",
       "      <td>386</td>\n",
       "      <td>0.047</td>\n",
       "      <td>0.806</td>\n",
       "      <td>0.146</td>\n",
       "      <td>0.9915</td>\n",
       "      <td>0.000</td>\n",
       "      <td>1.000</td>\n",
       "      <td>0.000</td>\n",
       "      <td>0.0000</td>\n",
       "      <td>0.023316</td>\n",
       "      <td>...</td>\n",
       "      <td>-0.002936</td>\n",
       "      <td>0.008136</td>\n",
       "      <td>-0.006456</td>\n",
       "      <td>-0.026059</td>\n",
       "      <td>-0.047053</td>\n",
       "      <td>-0.008303</td>\n",
       "      <td>-0.005470</td>\n",
       "      <td>0.060986</td>\n",
       "      <td>0.007418</td>\n",
       "      <td>-0.009984</td>\n",
       "    </tr>\n",
       "    <tr>\n",
       "      <th>8663</th>\n",
       "      <td>57</td>\n",
       "      <td>0.082</td>\n",
       "      <td>0.793</td>\n",
       "      <td>0.125</td>\n",
       "      <td>0.4215</td>\n",
       "      <td>0.263</td>\n",
       "      <td>0.737</td>\n",
       "      <td>0.000</td>\n",
       "      <td>-0.3612</td>\n",
       "      <td>0.000000</td>\n",
       "      <td>...</td>\n",
       "      <td>-0.014373</td>\n",
       "      <td>-0.020790</td>\n",
       "      <td>-0.055768</td>\n",
       "      <td>0.002642</td>\n",
       "      <td>-0.036467</td>\n",
       "      <td>0.014691</td>\n",
       "      <td>-0.042516</td>\n",
       "      <td>0.044465</td>\n",
       "      <td>-0.010219</td>\n",
       "      <td>0.015338</td>\n",
       "    </tr>\n",
       "    <tr>\n",
       "      <th>19916</th>\n",
       "      <td>14</td>\n",
       "      <td>0.135</td>\n",
       "      <td>0.702</td>\n",
       "      <td>0.164</td>\n",
       "      <td>0.1280</td>\n",
       "      <td>0.000</td>\n",
       "      <td>1.000</td>\n",
       "      <td>0.000</td>\n",
       "      <td>0.0000</td>\n",
       "      <td>0.000000</td>\n",
       "      <td>...</td>\n",
       "      <td>0.011753</td>\n",
       "      <td>-0.014055</td>\n",
       "      <td>-0.002278</td>\n",
       "      <td>-0.020237</td>\n",
       "      <td>-0.038115</td>\n",
       "      <td>0.048599</td>\n",
       "      <td>-0.026391</td>\n",
       "      <td>-0.033721</td>\n",
       "      <td>0.030635</td>\n",
       "      <td>-0.012194</td>\n",
       "    </tr>\n",
       "    <tr>\n",
       "      <th>18412</th>\n",
       "      <td>56</td>\n",
       "      <td>0.050</td>\n",
       "      <td>0.863</td>\n",
       "      <td>0.088</td>\n",
       "      <td>0.0731</td>\n",
       "      <td>0.000</td>\n",
       "      <td>1.000</td>\n",
       "      <td>0.000</td>\n",
       "      <td>0.0000</td>\n",
       "      <td>0.000000</td>\n",
       "      <td>...</td>\n",
       "      <td>0.005615</td>\n",
       "      <td>0.057239</td>\n",
       "      <td>-0.045525</td>\n",
       "      <td>0.037926</td>\n",
       "      <td>0.096838</td>\n",
       "      <td>0.192871</td>\n",
       "      <td>0.008809</td>\n",
       "      <td>0.140314</td>\n",
       "      <td>-0.005218</td>\n",
       "      <td>0.121113</td>\n",
       "    </tr>\n",
       "    <tr>\n",
       "      <th>11694</th>\n",
       "      <td>218</td>\n",
       "      <td>0.078</td>\n",
       "      <td>0.730</td>\n",
       "      <td>0.192</td>\n",
       "      <td>0.9794</td>\n",
       "      <td>0.000</td>\n",
       "      <td>0.658</td>\n",
       "      <td>0.342</td>\n",
       "      <td>0.3818</td>\n",
       "      <td>0.027523</td>\n",
       "      <td>...</td>\n",
       "      <td>0.001571</td>\n",
       "      <td>0.012521</td>\n",
       "      <td>-0.019878</td>\n",
       "      <td>0.004815</td>\n",
       "      <td>-0.004327</td>\n",
       "      <td>-0.002294</td>\n",
       "      <td>0.010640</td>\n",
       "      <td>-0.002441</td>\n",
       "      <td>0.003487</td>\n",
       "      <td>-0.023510</td>\n",
       "    </tr>\n",
       "    <tr>\n",
       "      <th>...</th>\n",
       "      <td>...</td>\n",
       "      <td>...</td>\n",
       "      <td>...</td>\n",
       "      <td>...</td>\n",
       "      <td>...</td>\n",
       "      <td>...</td>\n",
       "      <td>...</td>\n",
       "      <td>...</td>\n",
       "      <td>...</td>\n",
       "      <td>...</td>\n",
       "      <td>...</td>\n",
       "      <td>...</td>\n",
       "      <td>...</td>\n",
       "      <td>...</td>\n",
       "      <td>...</td>\n",
       "      <td>...</td>\n",
       "      <td>...</td>\n",
       "      <td>...</td>\n",
       "      <td>...</td>\n",
       "      <td>...</td>\n",
       "      <td>...</td>\n",
       "    </tr>\n",
       "    <tr>\n",
       "      <th>18214</th>\n",
       "      <td>227</td>\n",
       "      <td>0.026</td>\n",
       "      <td>0.661</td>\n",
       "      <td>0.313</td>\n",
       "      <td>0.9975</td>\n",
       "      <td>0.000</td>\n",
       "      <td>0.619</td>\n",
       "      <td>0.381</td>\n",
       "      <td>0.5719</td>\n",
       "      <td>0.000000</td>\n",
       "      <td>...</td>\n",
       "      <td>-0.000880</td>\n",
       "      <td>-0.015662</td>\n",
       "      <td>0.006521</td>\n",
       "      <td>0.006774</td>\n",
       "      <td>-0.032160</td>\n",
       "      <td>0.020931</td>\n",
       "      <td>-0.027814</td>\n",
       "      <td>-0.041325</td>\n",
       "      <td>-0.009325</td>\n",
       "      <td>-0.018736</td>\n",
       "    </tr>\n",
       "    <tr>\n",
       "      <th>7498</th>\n",
       "      <td>186</td>\n",
       "      <td>0.098</td>\n",
       "      <td>0.737</td>\n",
       "      <td>0.164</td>\n",
       "      <td>0.9132</td>\n",
       "      <td>0.000</td>\n",
       "      <td>1.000</td>\n",
       "      <td>0.000</td>\n",
       "      <td>0.0000</td>\n",
       "      <td>0.000000</td>\n",
       "      <td>...</td>\n",
       "      <td>0.019820</td>\n",
       "      <td>-0.009853</td>\n",
       "      <td>-0.029788</td>\n",
       "      <td>-0.001025</td>\n",
       "      <td>0.001128</td>\n",
       "      <td>0.002523</td>\n",
       "      <td>0.034027</td>\n",
       "      <td>0.006912</td>\n",
       "      <td>-0.036174</td>\n",
       "      <td>0.014851</td>\n",
       "    </tr>\n",
       "    <tr>\n",
       "      <th>8394</th>\n",
       "      <td>212</td>\n",
       "      <td>0.083</td>\n",
       "      <td>0.793</td>\n",
       "      <td>0.124</td>\n",
       "      <td>0.9153</td>\n",
       "      <td>0.126</td>\n",
       "      <td>0.631</td>\n",
       "      <td>0.243</td>\n",
       "      <td>0.3182</td>\n",
       "      <td>0.000000</td>\n",
       "      <td>...</td>\n",
       "      <td>0.008898</td>\n",
       "      <td>0.023698</td>\n",
       "      <td>-0.006160</td>\n",
       "      <td>-0.010577</td>\n",
       "      <td>-0.000437</td>\n",
       "      <td>0.000241</td>\n",
       "      <td>-0.010585</td>\n",
       "      <td>0.039981</td>\n",
       "      <td>0.031358</td>\n",
       "      <td>-0.018286</td>\n",
       "    </tr>\n",
       "    <tr>\n",
       "      <th>11895</th>\n",
       "      <td>190</td>\n",
       "      <td>0.270</td>\n",
       "      <td>0.554</td>\n",
       "      <td>0.176</td>\n",
       "      <td>-0.9803</td>\n",
       "      <td>0.462</td>\n",
       "      <td>0.538</td>\n",
       "      <td>0.000</td>\n",
       "      <td>-0.6486</td>\n",
       "      <td>0.005263</td>\n",
       "      <td>...</td>\n",
       "      <td>-0.058304</td>\n",
       "      <td>-0.028524</td>\n",
       "      <td>-0.031599</td>\n",
       "      <td>0.013817</td>\n",
       "      <td>-0.038477</td>\n",
       "      <td>0.020031</td>\n",
       "      <td>0.010092</td>\n",
       "      <td>-0.003640</td>\n",
       "      <td>0.003165</td>\n",
       "      <td>-0.009571</td>\n",
       "    </tr>\n",
       "    <tr>\n",
       "      <th>6089</th>\n",
       "      <td>247</td>\n",
       "      <td>0.093</td>\n",
       "      <td>0.813</td>\n",
       "      <td>0.093</td>\n",
       "      <td>0.4728</td>\n",
       "      <td>0.000</td>\n",
       "      <td>0.667</td>\n",
       "      <td>0.333</td>\n",
       "      <td>0.6124</td>\n",
       "      <td>0.000000</td>\n",
       "      <td>...</td>\n",
       "      <td>-0.012584</td>\n",
       "      <td>0.015297</td>\n",
       "      <td>-0.024025</td>\n",
       "      <td>0.018265</td>\n",
       "      <td>0.007062</td>\n",
       "      <td>-0.024388</td>\n",
       "      <td>-0.009519</td>\n",
       "      <td>0.017733</td>\n",
       "      <td>0.001075</td>\n",
       "      <td>-0.001215</td>\n",
       "    </tr>\n",
       "  </tbody>\n",
       "</table>\n",
       "<p>13826 rows × 40 columns</p>\n",
       "</div>"
      ],
      "text/plain": [
       "       len  neg_cleaned_text  neu_cleaned_text  pos_cleaned_text  compound  \\\n",
       "14021  386             0.047             0.806             0.146    0.9915   \n",
       "8663    57             0.082             0.793             0.125    0.4215   \n",
       "19916   14             0.135             0.702             0.164    0.1280   \n",
       "18412   56             0.050             0.863             0.088    0.0731   \n",
       "11694  218             0.078             0.730             0.192    0.9794   \n",
       "...    ...               ...               ...               ...       ...   \n",
       "18214  227             0.026             0.661             0.313    0.9975   \n",
       "7498   186             0.098             0.737             0.164    0.9132   \n",
       "8394   212             0.083             0.793             0.124    0.9153   \n",
       "11895  190             0.270             0.554             0.176   -0.9803   \n",
       "6089   247             0.093             0.813             0.093    0.4728   \n",
       "\n",
       "       neg_clean_title  neu_clean_title  pos_clean_title  compound  \\\n",
       "14021            0.000            1.000            0.000    0.0000   \n",
       "8663             0.263            0.737            0.000   -0.3612   \n",
       "19916            0.000            1.000            0.000    0.0000   \n",
       "18412            0.000            1.000            0.000    0.0000   \n",
       "11694            0.000            0.658            0.342    0.3818   \n",
       "...                ...              ...              ...       ...   \n",
       "18214            0.000            0.619            0.381    0.5719   \n",
       "7498             0.000            1.000            0.000    0.0000   \n",
       "8394             0.126            0.631            0.243    0.3182   \n",
       "11895            0.462            0.538            0.000   -0.6486   \n",
       "6089             0.000            0.667            0.333    0.6124   \n",
       "\n",
       "       percent_stop  ...        20        21        22        23        24  \\\n",
       "14021      0.023316  ... -0.002936  0.008136 -0.006456 -0.026059 -0.047053   \n",
       "8663       0.000000  ... -0.014373 -0.020790 -0.055768  0.002642 -0.036467   \n",
       "19916      0.000000  ...  0.011753 -0.014055 -0.002278 -0.020237 -0.038115   \n",
       "18412      0.000000  ...  0.005615  0.057239 -0.045525  0.037926  0.096838   \n",
       "11694      0.027523  ...  0.001571  0.012521 -0.019878  0.004815 -0.004327   \n",
       "...             ...  ...       ...       ...       ...       ...       ...   \n",
       "18214      0.000000  ... -0.000880 -0.015662  0.006521  0.006774 -0.032160   \n",
       "7498       0.000000  ...  0.019820 -0.009853 -0.029788 -0.001025  0.001128   \n",
       "8394       0.000000  ...  0.008898  0.023698 -0.006160 -0.010577 -0.000437   \n",
       "11895      0.005263  ... -0.058304 -0.028524 -0.031599  0.013817 -0.038477   \n",
       "6089       0.000000  ... -0.012584  0.015297 -0.024025  0.018265  0.007062   \n",
       "\n",
       "             25        26        27        28        29  \n",
       "14021 -0.008303 -0.005470  0.060986  0.007418 -0.009984  \n",
       "8663   0.014691 -0.042516  0.044465 -0.010219  0.015338  \n",
       "19916  0.048599 -0.026391 -0.033721  0.030635 -0.012194  \n",
       "18412  0.192871  0.008809  0.140314 -0.005218  0.121113  \n",
       "11694 -0.002294  0.010640 -0.002441  0.003487 -0.023510  \n",
       "...         ...       ...       ...       ...       ...  \n",
       "18214  0.020931 -0.027814 -0.041325 -0.009325 -0.018736  \n",
       "7498   0.002523  0.034027  0.006912 -0.036174  0.014851  \n",
       "8394   0.000241 -0.010585  0.039981  0.031358 -0.018286  \n",
       "11895  0.020031  0.010092 -0.003640  0.003165 -0.009571  \n",
       "6089  -0.024388 -0.009519  0.017733  0.001075 -0.001215  \n",
       "\n",
       "[13826 rows x 40 columns]"
      ]
     },
     "execution_count": 45,
     "metadata": {},
     "output_type": "execute_result"
    }
   ],
   "source": [
    "X_vec_numeric = X_vec.select_dtypes(include=np.number).drop(columns=[\"id\"])\n",
    "principal_components_df = pd.DataFrame(principal_components)\n",
    "temp_index = X_vec.index\n",
    "X_vec_numeric.reset_index(inplace=True)\n",
    "principal_components_df.reset_index(inplace=True)\n",
    "x_train_combined = pd.concat([X_vec_numeric, principal_components_df], axis=1)\n",
    "x_train_combined.drop(columns=['index'], inplace=True)\n",
    "x_train_combined.set_index(temp_index, inplace=True)\n",
    "x_train_combined.columns = x_train_combined.columns.astype(str)\n",
    "x_train_combined"
   ]
  },
  {
   "cell_type": "code",
   "execution_count": 48,
   "metadata": {},
   "outputs": [],
   "source": [
    "### Preprocessing X test\n",
    "## Same preprocessing X train went through\n",
    "## Utilizing fitted pca and tfidf\n",
    "test_tfidf_matrix = vectorizer.transform(X_test['cleaned_text'])\n",
    "\n",
    "test_tfidf = pd.DataFrame(test_tfidf_matrix.toarray(), columns=vectorizer.get_feature_names_out(), index=X_test.index)\n",
    "test_pca = pd.DataFrame(pca.transform(test_tfidf))\n",
    "\n",
    "\n",
    "X_test_vec = X_test.copy()\n",
    "X_test_vec['tokens'] = X_test_vec['cleaned_text'].apply(lambda x: x.split())\n",
    "X_test_vec['len'] = X_test_vec['tokens'].apply(lambda x: len(x))\n",
    "X_test_vec = sentiment_maker(X_test_vec, \"cleaned_text\")\n",
    "X_test_vec = sentiment_maker(X_test_vec, \"clean_title\")\n",
    "X_test_vec['percent_stop'] = X_test_vec['tokens'].apply(count_stop_words)\n",
    "\n",
    "X_vec_numeric = X_test_vec.select_dtypes(include=np.number).drop(columns=[\"id\"])\n",
    "x_test_index = X_test.index\n",
    "X_vec_numeric.reset_index(inplace=True)\n",
    "test_pca.reset_index(inplace=True)\n",
    "x_test_processed = pd.concat([X_vec_numeric, test_pca], axis=1)\n",
    "x_test_processed.set_index(x_test_index, inplace=True)\n",
    "x_test_processed.columns = x_test_processed.columns.astype(str)\n",
    "x_test_processed.drop(columns=['index'], inplace=True)"
   ]
  },
  {
   "cell_type": "code",
   "execution_count": 49,
   "metadata": {},
   "outputs": [],
   "source": [
    "scaler = StandardScaler()\n",
    "x_train_scaled = scaler.fit_transform(x_train_combined)\n",
    "x_test_scaled = scaler.transform(x_test_processed)\n",
    "svm = SVC(kernel=\"linear\", C=1.0, gamma=\"scale\", probability=True, random_state=100)\n",
    "svm.fit(x_train_scaled, y_train)\n",
    "\n",
    "# y_pred = svm.predict(x_test_scaled)\n",
    "y_probs = svm.predict_proba(x_test_scaled)[:,1]"
   ]
  },
  {
   "cell_type": "code",
   "execution_count": 57,
   "metadata": {},
   "outputs": [
    {
     "data": {
      "application/vnd.plotly.v1+json": {
       "config": {
        "plotlyServerURL": "https://plot.ly"
       },
       "data": [
        {
         "hovertemplate": "Threshold Cutoff=%{x}<br>Accuracy=%{y}<extra></extra>",
         "legendgroup": "",
         "line": {
          "color": "#636efa",
          "dash": "solid"
         },
         "marker": {
          "symbol": "circle"
         },
         "mode": "lines",
         "name": "",
         "orientation": "v",
         "showlegend": false,
         "type": "scatter",
         "x": {
          "bdata": "AAAAAAAAAACamZmZmZmpP5qZmZmZmbk/NDMzMzMzwz+amZmZmZnJPwAAAAAAANA/NDMzMzMz0z9nZmZmZmbWP5qZmZmZmdk/zczMzMzM3D8AAAAAAADgP5qZmZmZmeE/NDMzMzMz4z/NzMzMzMzkP2dmZmZmZuY/AAAAAAAA6D+amZmZmZnpPzQzMzMzM+s/zczMzMzM7D9nZmZmZmbuPw==",
          "dtype": "f8"
         },
         "xaxis": "x",
         "y": {
          "bdata": "4aSr6UyF3z/hpKvpTIXfP+Gkq+lMhd8/8pcHh+yO3z+ed22Q+6bfPyBHhh4Sy98/AAAAAAAA4D/kTcSBSiXgP1te/S5LeOA/ZTGrBwL54D/qqdwtFr3hP5adEC/GhOI/9zlxlmuN4z+jQXOPvATlP/P0XtWSW+Y/5L7px5Gh5z9pQQJqdr3oPxwtSEDNruc/p6Q6xAY+4z9Ja6GRq27gPw==",
          "dtype": "f8"
         },
         "yaxis": "y"
        }
       ],
       "layout": {
        "legend": {
         "tracegroupgap": 0
        },
        "template": {
         "data": {
          "bar": [
           {
            "error_x": {
             "color": "#2a3f5f"
            },
            "error_y": {
             "color": "#2a3f5f"
            },
            "marker": {
             "line": {
              "color": "#E5ECF6",
              "width": 0.5
             },
             "pattern": {
              "fillmode": "overlay",
              "size": 10,
              "solidity": 0.2
             }
            },
            "type": "bar"
           }
          ],
          "barpolar": [
           {
            "marker": {
             "line": {
              "color": "#E5ECF6",
              "width": 0.5
             },
             "pattern": {
              "fillmode": "overlay",
              "size": 10,
              "solidity": 0.2
             }
            },
            "type": "barpolar"
           }
          ],
          "carpet": [
           {
            "aaxis": {
             "endlinecolor": "#2a3f5f",
             "gridcolor": "white",
             "linecolor": "white",
             "minorgridcolor": "white",
             "startlinecolor": "#2a3f5f"
            },
            "baxis": {
             "endlinecolor": "#2a3f5f",
             "gridcolor": "white",
             "linecolor": "white",
             "minorgridcolor": "white",
             "startlinecolor": "#2a3f5f"
            },
            "type": "carpet"
           }
          ],
          "choropleth": [
           {
            "colorbar": {
             "outlinewidth": 0,
             "ticks": ""
            },
            "type": "choropleth"
           }
          ],
          "contour": [
           {
            "colorbar": {
             "outlinewidth": 0,
             "ticks": ""
            },
            "colorscale": [
             [
              0,
              "#0d0887"
             ],
             [
              0.1111111111111111,
              "#46039f"
             ],
             [
              0.2222222222222222,
              "#7201a8"
             ],
             [
              0.3333333333333333,
              "#9c179e"
             ],
             [
              0.4444444444444444,
              "#bd3786"
             ],
             [
              0.5555555555555556,
              "#d8576b"
             ],
             [
              0.6666666666666666,
              "#ed7953"
             ],
             [
              0.7777777777777778,
              "#fb9f3a"
             ],
             [
              0.8888888888888888,
              "#fdca26"
             ],
             [
              1,
              "#f0f921"
             ]
            ],
            "type": "contour"
           }
          ],
          "contourcarpet": [
           {
            "colorbar": {
             "outlinewidth": 0,
             "ticks": ""
            },
            "type": "contourcarpet"
           }
          ],
          "heatmap": [
           {
            "colorbar": {
             "outlinewidth": 0,
             "ticks": ""
            },
            "colorscale": [
             [
              0,
              "#0d0887"
             ],
             [
              0.1111111111111111,
              "#46039f"
             ],
             [
              0.2222222222222222,
              "#7201a8"
             ],
             [
              0.3333333333333333,
              "#9c179e"
             ],
             [
              0.4444444444444444,
              "#bd3786"
             ],
             [
              0.5555555555555556,
              "#d8576b"
             ],
             [
              0.6666666666666666,
              "#ed7953"
             ],
             [
              0.7777777777777778,
              "#fb9f3a"
             ],
             [
              0.8888888888888888,
              "#fdca26"
             ],
             [
              1,
              "#f0f921"
             ]
            ],
            "type": "heatmap"
           }
          ],
          "histogram": [
           {
            "marker": {
             "pattern": {
              "fillmode": "overlay",
              "size": 10,
              "solidity": 0.2
             }
            },
            "type": "histogram"
           }
          ],
          "histogram2d": [
           {
            "colorbar": {
             "outlinewidth": 0,
             "ticks": ""
            },
            "colorscale": [
             [
              0,
              "#0d0887"
             ],
             [
              0.1111111111111111,
              "#46039f"
             ],
             [
              0.2222222222222222,
              "#7201a8"
             ],
             [
              0.3333333333333333,
              "#9c179e"
             ],
             [
              0.4444444444444444,
              "#bd3786"
             ],
             [
              0.5555555555555556,
              "#d8576b"
             ],
             [
              0.6666666666666666,
              "#ed7953"
             ],
             [
              0.7777777777777778,
              "#fb9f3a"
             ],
             [
              0.8888888888888888,
              "#fdca26"
             ],
             [
              1,
              "#f0f921"
             ]
            ],
            "type": "histogram2d"
           }
          ],
          "histogram2dcontour": [
           {
            "colorbar": {
             "outlinewidth": 0,
             "ticks": ""
            },
            "colorscale": [
             [
              0,
              "#0d0887"
             ],
             [
              0.1111111111111111,
              "#46039f"
             ],
             [
              0.2222222222222222,
              "#7201a8"
             ],
             [
              0.3333333333333333,
              "#9c179e"
             ],
             [
              0.4444444444444444,
              "#bd3786"
             ],
             [
              0.5555555555555556,
              "#d8576b"
             ],
             [
              0.6666666666666666,
              "#ed7953"
             ],
             [
              0.7777777777777778,
              "#fb9f3a"
             ],
             [
              0.8888888888888888,
              "#fdca26"
             ],
             [
              1,
              "#f0f921"
             ]
            ],
            "type": "histogram2dcontour"
           }
          ],
          "mesh3d": [
           {
            "colorbar": {
             "outlinewidth": 0,
             "ticks": ""
            },
            "type": "mesh3d"
           }
          ],
          "parcoords": [
           {
            "line": {
             "colorbar": {
              "outlinewidth": 0,
              "ticks": ""
             }
            },
            "type": "parcoords"
           }
          ],
          "pie": [
           {
            "automargin": true,
            "type": "pie"
           }
          ],
          "scatter": [
           {
            "fillpattern": {
             "fillmode": "overlay",
             "size": 10,
             "solidity": 0.2
            },
            "type": "scatter"
           }
          ],
          "scatter3d": [
           {
            "line": {
             "colorbar": {
              "outlinewidth": 0,
              "ticks": ""
             }
            },
            "marker": {
             "colorbar": {
              "outlinewidth": 0,
              "ticks": ""
             }
            },
            "type": "scatter3d"
           }
          ],
          "scattercarpet": [
           {
            "marker": {
             "colorbar": {
              "outlinewidth": 0,
              "ticks": ""
             }
            },
            "type": "scattercarpet"
           }
          ],
          "scattergeo": [
           {
            "marker": {
             "colorbar": {
              "outlinewidth": 0,
              "ticks": ""
             }
            },
            "type": "scattergeo"
           }
          ],
          "scattergl": [
           {
            "marker": {
             "colorbar": {
              "outlinewidth": 0,
              "ticks": ""
             }
            },
            "type": "scattergl"
           }
          ],
          "scattermap": [
           {
            "marker": {
             "colorbar": {
              "outlinewidth": 0,
              "ticks": ""
             }
            },
            "type": "scattermap"
           }
          ],
          "scattermapbox": [
           {
            "marker": {
             "colorbar": {
              "outlinewidth": 0,
              "ticks": ""
             }
            },
            "type": "scattermapbox"
           }
          ],
          "scatterpolar": [
           {
            "marker": {
             "colorbar": {
              "outlinewidth": 0,
              "ticks": ""
             }
            },
            "type": "scatterpolar"
           }
          ],
          "scatterpolargl": [
           {
            "marker": {
             "colorbar": {
              "outlinewidth": 0,
              "ticks": ""
             }
            },
            "type": "scatterpolargl"
           }
          ],
          "scatterternary": [
           {
            "marker": {
             "colorbar": {
              "outlinewidth": 0,
              "ticks": ""
             }
            },
            "type": "scatterternary"
           }
          ],
          "surface": [
           {
            "colorbar": {
             "outlinewidth": 0,
             "ticks": ""
            },
            "colorscale": [
             [
              0,
              "#0d0887"
             ],
             [
              0.1111111111111111,
              "#46039f"
             ],
             [
              0.2222222222222222,
              "#7201a8"
             ],
             [
              0.3333333333333333,
              "#9c179e"
             ],
             [
              0.4444444444444444,
              "#bd3786"
             ],
             [
              0.5555555555555556,
              "#d8576b"
             ],
             [
              0.6666666666666666,
              "#ed7953"
             ],
             [
              0.7777777777777778,
              "#fb9f3a"
             ],
             [
              0.8888888888888888,
              "#fdca26"
             ],
             [
              1,
              "#f0f921"
             ]
            ],
            "type": "surface"
           }
          ],
          "table": [
           {
            "cells": {
             "fill": {
              "color": "#EBF0F8"
             },
             "line": {
              "color": "white"
             }
            },
            "header": {
             "fill": {
              "color": "#C8D4E3"
             },
             "line": {
              "color": "white"
             }
            },
            "type": "table"
           }
          ]
         },
         "layout": {
          "annotationdefaults": {
           "arrowcolor": "#2a3f5f",
           "arrowhead": 0,
           "arrowwidth": 1
          },
          "autotypenumbers": "strict",
          "coloraxis": {
           "colorbar": {
            "outlinewidth": 0,
            "ticks": ""
           }
          },
          "colorscale": {
           "diverging": [
            [
             0,
             "#8e0152"
            ],
            [
             0.1,
             "#c51b7d"
            ],
            [
             0.2,
             "#de77ae"
            ],
            [
             0.3,
             "#f1b6da"
            ],
            [
             0.4,
             "#fde0ef"
            ],
            [
             0.5,
             "#f7f7f7"
            ],
            [
             0.6,
             "#e6f5d0"
            ],
            [
             0.7,
             "#b8e186"
            ],
            [
             0.8,
             "#7fbc41"
            ],
            [
             0.9,
             "#4d9221"
            ],
            [
             1,
             "#276419"
            ]
           ],
           "sequential": [
            [
             0,
             "#0d0887"
            ],
            [
             0.1111111111111111,
             "#46039f"
            ],
            [
             0.2222222222222222,
             "#7201a8"
            ],
            [
             0.3333333333333333,
             "#9c179e"
            ],
            [
             0.4444444444444444,
             "#bd3786"
            ],
            [
             0.5555555555555556,
             "#d8576b"
            ],
            [
             0.6666666666666666,
             "#ed7953"
            ],
            [
             0.7777777777777778,
             "#fb9f3a"
            ],
            [
             0.8888888888888888,
             "#fdca26"
            ],
            [
             1,
             "#f0f921"
            ]
           ],
           "sequentialminus": [
            [
             0,
             "#0d0887"
            ],
            [
             0.1111111111111111,
             "#46039f"
            ],
            [
             0.2222222222222222,
             "#7201a8"
            ],
            [
             0.3333333333333333,
             "#9c179e"
            ],
            [
             0.4444444444444444,
             "#bd3786"
            ],
            [
             0.5555555555555556,
             "#d8576b"
            ],
            [
             0.6666666666666666,
             "#ed7953"
            ],
            [
             0.7777777777777778,
             "#fb9f3a"
            ],
            [
             0.8888888888888888,
             "#fdca26"
            ],
            [
             1,
             "#f0f921"
            ]
           ]
          },
          "colorway": [
           "#636efa",
           "#EF553B",
           "#00cc96",
           "#ab63fa",
           "#FFA15A",
           "#19d3f3",
           "#FF6692",
           "#B6E880",
           "#FF97FF",
           "#FECB52"
          ],
          "font": {
           "color": "#2a3f5f"
          },
          "geo": {
           "bgcolor": "white",
           "lakecolor": "white",
           "landcolor": "#E5ECF6",
           "showlakes": true,
           "showland": true,
           "subunitcolor": "white"
          },
          "hoverlabel": {
           "align": "left"
          },
          "hovermode": "closest",
          "mapbox": {
           "style": "light"
          },
          "paper_bgcolor": "white",
          "plot_bgcolor": "#E5ECF6",
          "polar": {
           "angularaxis": {
            "gridcolor": "white",
            "linecolor": "white",
            "ticks": ""
           },
           "bgcolor": "#E5ECF6",
           "radialaxis": {
            "gridcolor": "white",
            "linecolor": "white",
            "ticks": ""
           }
          },
          "scene": {
           "xaxis": {
            "backgroundcolor": "#E5ECF6",
            "gridcolor": "white",
            "gridwidth": 2,
            "linecolor": "white",
            "showbackground": true,
            "ticks": "",
            "zerolinecolor": "white"
           },
           "yaxis": {
            "backgroundcolor": "#E5ECF6",
            "gridcolor": "white",
            "gridwidth": 2,
            "linecolor": "white",
            "showbackground": true,
            "ticks": "",
            "zerolinecolor": "white"
           },
           "zaxis": {
            "backgroundcolor": "#E5ECF6",
            "gridcolor": "white",
            "gridwidth": 2,
            "linecolor": "white",
            "showbackground": true,
            "ticks": "",
            "zerolinecolor": "white"
           }
          },
          "shapedefaults": {
           "line": {
            "color": "#2a3f5f"
           }
          },
          "ternary": {
           "aaxis": {
            "gridcolor": "white",
            "linecolor": "white",
            "ticks": ""
           },
           "baxis": {
            "gridcolor": "white",
            "linecolor": "white",
            "ticks": ""
           },
           "bgcolor": "#E5ECF6",
           "caxis": {
            "gridcolor": "white",
            "linecolor": "white",
            "ticks": ""
           }
          },
          "title": {
           "x": 0.05
          },
          "xaxis": {
           "automargin": true,
           "gridcolor": "white",
           "linecolor": "white",
           "ticks": "",
           "title": {
            "standoff": 15
           },
           "zerolinecolor": "white",
           "zerolinewidth": 2
          },
          "yaxis": {
           "automargin": true,
           "gridcolor": "white",
           "linecolor": "white",
           "ticks": "",
           "title": {
            "standoff": 15
           },
           "zerolinecolor": "white",
           "zerolinewidth": 2
          }
         }
        },
        "title": {
         "text": "Accuracy vs Cutoff"
        },
        "xaxis": {
         "anchor": "y",
         "domain": [
          0,
          1
         ],
         "title": {
          "text": "Threshold Cutoff"
         }
        },
        "yaxis": {
         "anchor": "x",
         "domain": [
          0,
          1
         ],
         "title": {
          "text": "Accuracy"
         }
        }
       }
      }
     },
     "metadata": {},
     "output_type": "display_data"
    }
   ],
   "source": [
    "percentages = np.arange(0, 1, 0.05)\n",
    "accuracy = []\n",
    "for cutoff in percentages:\n",
    "    y_pred = [1 if proba > cutoff else 0 for proba in y_probs]\n",
    "    accurate = sum(y_pred == y_test_true) / len(y_test_true)\n",
    "    accuracy.append(accurate)\n",
    "    \n",
    "data = {\n",
    "    'Cutoff': percentages,\n",
    "    'Accuracy': accuracy\n",
    "}\n",
    "\n",
    "accutacy_table = pd.DataFrame(data)\n",
    "\n",
    "# Create a line plot\n",
    "fig = px.line(accutacy_table, x='Cutoff', y='Accuracy', title='Accuracy vs Cutoff',\n",
    "              labels={'Cutoff': 'Threshold Cutoff', 'Accuracy': 'Accuracy'})\n",
    "fig.show()"
   ]
  },
  {
   "cell_type": "code",
   "execution_count": 61,
   "metadata": {},
   "outputs": [
    {
     "name": "stdout",
     "output_type": "stream",
     "text": [
      "Evaluation at Threshold: 0.8\n",
      " Accuracy: 0.773\n",
      "              precision    recall  f1-score   support\n",
      "\n",
      "           0       0.78      0.77      0.77      3456\n",
      "           1       0.76      0.78      0.77      3354\n",
      "\n",
      "    accuracy                           0.77      6810\n",
      "   macro avg       0.77      0.77      0.77      6810\n",
      "weighted avg       0.77      0.77      0.77      6810\n",
      "\n",
      "y_test distribution: [3456 3354]\n",
      "y_pred distribution: [3381 3429]\n"
     ]
    }
   ],
   "source": [
    "threshold = 0.8\n",
    "y_pred_custom = (y_probs >= threshold).astype(int)\n",
    "\n",
    "accuracy = accuracy_score(y_test_true, y_pred_custom)\n",
    "\n",
    "print(f\"Evaluation at Threshold: {threshold}\")\n",
    "print(f\" Accuracy: {accuracy:.3f}\")\n",
    "print(classification_report(y_test_true, y_pred_custom))\n",
    "print(\"y_test distribution:\", np.bincount(y_test_true))\n",
    "print(\"y_pred distribution:\", np.bincount(y_pred_custom))"
   ]
  }
 ],
 "metadata": {
  "kernelspec": {
   "display_name": "tf_env",
   "language": "python",
   "name": "python3"
  },
  "language_info": {
   "codemirror_mode": {
    "name": "ipython",
    "version": 3
   },
   "file_extension": ".py",
   "mimetype": "text/x-python",
   "name": "python",
   "nbconvert_exporter": "python",
   "pygments_lexer": "ipython3",
   "version": "3.8.12"
  }
 },
 "nbformat": 4,
 "nbformat_minor": 2
}
